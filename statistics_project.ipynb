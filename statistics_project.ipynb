{
 "cells": [
  {
   "cell_type": "markdown",
   "id": "4fd840b4",
   "metadata": {},
   "source": [
    "## **Problem Statement:**\n",
    "Employee attrition has become a major challenge for organizations,which leads in increased recruitment and training costs, loss of experienced talent, disruption in team productivity and moral."
   ]
  },
  {
   "cell_type": "markdown",
   "id": "aeb4f987",
   "metadata": {},
   "source": [
    "## **Objectives:**\n",
    "- Understand the employee dataset\n",
    "- Analyze categorical and numerical variables\n",
    "- Visualize relationships (bar, pie, line plots)\n",
    "- Use hypothesis testing (t-test, chi-square)\n",
    "- Derive actionable insights\n"
   ]
  },
  {
   "cell_type": "markdown",
   "id": "4f8ea4c1",
   "metadata": {},
   "source": [
    "### Importing Libraries"
   ]
  },
  {
   "cell_type": "code",
   "execution_count": 2,
   "id": "a78bc7bf",
   "metadata": {},
   "outputs": [],
   "source": [
    "import pandas as pd\n",
    "import numpy as np\n",
    "import matplotlib.pyplot as plt\n",
    "import seaborn as sns\n",
    "%matplotlib inline"
   ]
  },
  {
   "cell_type": "markdown",
   "id": "84066592",
   "metadata": {},
   "source": [
    "### Loading Data"
   ]
  },
  {
   "cell_type": "code",
   "execution_count": 3,
   "id": "de7a3e32",
   "metadata": {},
   "outputs": [
    {
     "data": {
      "text/html": [
       "<div>\n",
       "<style scoped>\n",
       "    .dataframe tbody tr th:only-of-type {\n",
       "        vertical-align: middle;\n",
       "    }\n",
       "\n",
       "    .dataframe tbody tr th {\n",
       "        vertical-align: top;\n",
       "    }\n",
       "\n",
       "    .dataframe thead th {\n",
       "        text-align: right;\n",
       "    }\n",
       "</style>\n",
       "<table border=\"1\" class=\"dataframe\">\n",
       "  <thead>\n",
       "    <tr style=\"text-align: right;\">\n",
       "      <th></th>\n",
       "      <th>Age</th>\n",
       "      <th>Attrition</th>\n",
       "      <th>BusinessTravel</th>\n",
       "      <th>DailyRate</th>\n",
       "      <th>Department</th>\n",
       "      <th>DistanceFromHome</th>\n",
       "      <th>Education</th>\n",
       "      <th>EducationField</th>\n",
       "      <th>EmployeeCount</th>\n",
       "      <th>EmployeeNumber</th>\n",
       "      <th>...</th>\n",
       "      <th>RelationshipSatisfaction</th>\n",
       "      <th>StandardHours</th>\n",
       "      <th>StockOptionLevel</th>\n",
       "      <th>TotalWorkingYears</th>\n",
       "      <th>TrainingTimesLastYear</th>\n",
       "      <th>WorkLifeBalance</th>\n",
       "      <th>YearsAtCompany</th>\n",
       "      <th>YearsInCurrentRole</th>\n",
       "      <th>YearsSinceLastPromotion</th>\n",
       "      <th>YearsWithCurrManager</th>\n",
       "    </tr>\n",
       "  </thead>\n",
       "  <tbody>\n",
       "    <tr>\n",
       "      <th>0</th>\n",
       "      <td>41</td>\n",
       "      <td>Yes</td>\n",
       "      <td>Travel_Rarely</td>\n",
       "      <td>1102</td>\n",
       "      <td>Sales</td>\n",
       "      <td>1</td>\n",
       "      <td>2</td>\n",
       "      <td>Life Sciences</td>\n",
       "      <td>1</td>\n",
       "      <td>1</td>\n",
       "      <td>...</td>\n",
       "      <td>1</td>\n",
       "      <td>80</td>\n",
       "      <td>0</td>\n",
       "      <td>8</td>\n",
       "      <td>0</td>\n",
       "      <td>1</td>\n",
       "      <td>6</td>\n",
       "      <td>4</td>\n",
       "      <td>0</td>\n",
       "      <td>5</td>\n",
       "    </tr>\n",
       "    <tr>\n",
       "      <th>1</th>\n",
       "      <td>49</td>\n",
       "      <td>No</td>\n",
       "      <td>Travel_Frequently</td>\n",
       "      <td>279</td>\n",
       "      <td>Research &amp; Development</td>\n",
       "      <td>8</td>\n",
       "      <td>1</td>\n",
       "      <td>Life Sciences</td>\n",
       "      <td>1</td>\n",
       "      <td>2</td>\n",
       "      <td>...</td>\n",
       "      <td>4</td>\n",
       "      <td>80</td>\n",
       "      <td>1</td>\n",
       "      <td>10</td>\n",
       "      <td>3</td>\n",
       "      <td>3</td>\n",
       "      <td>10</td>\n",
       "      <td>7</td>\n",
       "      <td>1</td>\n",
       "      <td>7</td>\n",
       "    </tr>\n",
       "    <tr>\n",
       "      <th>2</th>\n",
       "      <td>37</td>\n",
       "      <td>Yes</td>\n",
       "      <td>Travel_Rarely</td>\n",
       "      <td>1373</td>\n",
       "      <td>Research &amp; Development</td>\n",
       "      <td>2</td>\n",
       "      <td>2</td>\n",
       "      <td>Other</td>\n",
       "      <td>1</td>\n",
       "      <td>4</td>\n",
       "      <td>...</td>\n",
       "      <td>2</td>\n",
       "      <td>80</td>\n",
       "      <td>0</td>\n",
       "      <td>7</td>\n",
       "      <td>3</td>\n",
       "      <td>3</td>\n",
       "      <td>0</td>\n",
       "      <td>0</td>\n",
       "      <td>0</td>\n",
       "      <td>0</td>\n",
       "    </tr>\n",
       "    <tr>\n",
       "      <th>3</th>\n",
       "      <td>33</td>\n",
       "      <td>No</td>\n",
       "      <td>Travel_Frequently</td>\n",
       "      <td>1392</td>\n",
       "      <td>Research &amp; Development</td>\n",
       "      <td>3</td>\n",
       "      <td>4</td>\n",
       "      <td>Life Sciences</td>\n",
       "      <td>1</td>\n",
       "      <td>5</td>\n",
       "      <td>...</td>\n",
       "      <td>3</td>\n",
       "      <td>80</td>\n",
       "      <td>0</td>\n",
       "      <td>8</td>\n",
       "      <td>3</td>\n",
       "      <td>3</td>\n",
       "      <td>8</td>\n",
       "      <td>7</td>\n",
       "      <td>3</td>\n",
       "      <td>0</td>\n",
       "    </tr>\n",
       "    <tr>\n",
       "      <th>4</th>\n",
       "      <td>27</td>\n",
       "      <td>No</td>\n",
       "      <td>Travel_Rarely</td>\n",
       "      <td>591</td>\n",
       "      <td>Research &amp; Development</td>\n",
       "      <td>2</td>\n",
       "      <td>1</td>\n",
       "      <td>Medical</td>\n",
       "      <td>1</td>\n",
       "      <td>7</td>\n",
       "      <td>...</td>\n",
       "      <td>4</td>\n",
       "      <td>80</td>\n",
       "      <td>1</td>\n",
       "      <td>6</td>\n",
       "      <td>3</td>\n",
       "      <td>3</td>\n",
       "      <td>2</td>\n",
       "      <td>2</td>\n",
       "      <td>2</td>\n",
       "      <td>2</td>\n",
       "    </tr>\n",
       "  </tbody>\n",
       "</table>\n",
       "<p>5 rows × 35 columns</p>\n",
       "</div>"
      ],
      "text/plain": [
       "   Age Attrition     BusinessTravel  DailyRate              Department  \\\n",
       "0   41       Yes      Travel_Rarely       1102                   Sales   \n",
       "1   49        No  Travel_Frequently        279  Research & Development   \n",
       "2   37       Yes      Travel_Rarely       1373  Research & Development   \n",
       "3   33        No  Travel_Frequently       1392  Research & Development   \n",
       "4   27        No      Travel_Rarely        591  Research & Development   \n",
       "\n",
       "   DistanceFromHome  Education EducationField  EmployeeCount  EmployeeNumber  \\\n",
       "0                 1          2  Life Sciences              1               1   \n",
       "1                 8          1  Life Sciences              1               2   \n",
       "2                 2          2          Other              1               4   \n",
       "3                 3          4  Life Sciences              1               5   \n",
       "4                 2          1        Medical              1               7   \n",
       "\n",
       "   ...  RelationshipSatisfaction StandardHours  StockOptionLevel  \\\n",
       "0  ...                         1            80                 0   \n",
       "1  ...                         4            80                 1   \n",
       "2  ...                         2            80                 0   \n",
       "3  ...                         3            80                 0   \n",
       "4  ...                         4            80                 1   \n",
       "\n",
       "   TotalWorkingYears  TrainingTimesLastYear WorkLifeBalance  YearsAtCompany  \\\n",
       "0                  8                      0               1               6   \n",
       "1                 10                      3               3              10   \n",
       "2                  7                      3               3               0   \n",
       "3                  8                      3               3               8   \n",
       "4                  6                      3               3               2   \n",
       "\n",
       "  YearsInCurrentRole  YearsSinceLastPromotion  YearsWithCurrManager  \n",
       "0                  4                        0                     5  \n",
       "1                  7                        1                     7  \n",
       "2                  0                        0                     0  \n",
       "3                  7                        3                     0  \n",
       "4                  2                        2                     2  \n",
       "\n",
       "[5 rows x 35 columns]"
      ]
     },
     "execution_count": 3,
     "metadata": {},
     "output_type": "execute_result"
    }
   ],
   "source": [
    "df = pd.read_csv('/Users/adityakumbhar/Developer/Datasets/HR_IBM.csv')\n",
    "df.head()"
   ]
  },
  {
   "cell_type": "code",
   "execution_count": 4,
   "id": "c3e47a98",
   "metadata": {},
   "outputs": [
    {
     "name": "stdout",
     "output_type": "stream",
     "text": [
      "<class 'pandas.core.frame.DataFrame'>\n",
      "RangeIndex: 1470 entries, 0 to 1469\n",
      "Data columns (total 35 columns):\n",
      " #   Column                    Non-Null Count  Dtype \n",
      "---  ------                    --------------  ----- \n",
      " 0   Age                       1470 non-null   int64 \n",
      " 1   Attrition                 1470 non-null   object\n",
      " 2   BusinessTravel            1470 non-null   object\n",
      " 3   DailyRate                 1470 non-null   int64 \n",
      " 4   Department                1470 non-null   object\n",
      " 5   DistanceFromHome          1470 non-null   int64 \n",
      " 6   Education                 1470 non-null   int64 \n",
      " 7   EducationField            1470 non-null   object\n",
      " 8   EmployeeCount             1470 non-null   int64 \n",
      " 9   EmployeeNumber            1470 non-null   int64 \n",
      " 10  EnvironmentSatisfaction   1470 non-null   int64 \n",
      " 11  Gender                    1470 non-null   object\n",
      " 12  HourlyRate                1470 non-null   int64 \n",
      " 13  JobInvolvement            1470 non-null   int64 \n",
      " 14  JobLevel                  1470 non-null   int64 \n",
      " 15  JobRole                   1470 non-null   object\n",
      " 16  JobSatisfaction           1470 non-null   int64 \n",
      " 17  MaritalStatus             1470 non-null   object\n",
      " 18  MonthlyIncome             1470 non-null   int64 \n",
      " 19  MonthlyRate               1470 non-null   int64 \n",
      " 20  NumCompaniesWorked        1470 non-null   int64 \n",
      " 21  Over18                    1470 non-null   object\n",
      " 22  OverTime                  1470 non-null   object\n",
      " 23  PercentSalaryHike         1470 non-null   int64 \n",
      " 24  PerformanceRating         1470 non-null   int64 \n",
      " 25  RelationshipSatisfaction  1470 non-null   int64 \n",
      " 26  StandardHours             1470 non-null   int64 \n",
      " 27  StockOptionLevel          1470 non-null   int64 \n",
      " 28  TotalWorkingYears         1470 non-null   int64 \n",
      " 29  TrainingTimesLastYear     1470 non-null   int64 \n",
      " 30  WorkLifeBalance           1470 non-null   int64 \n",
      " 31  YearsAtCompany            1470 non-null   int64 \n",
      " 32  YearsInCurrentRole        1470 non-null   int64 \n",
      " 33  YearsSinceLastPromotion   1470 non-null   int64 \n",
      " 34  YearsWithCurrManager      1470 non-null   int64 \n",
      "dtypes: int64(26), object(9)\n",
      "memory usage: 402.1+ KB\n"
     ]
    }
   ],
   "source": [
    "df.info()"
   ]
  },
  {
   "cell_type": "code",
   "execution_count": 5,
   "id": "8b506ed4",
   "metadata": {},
   "outputs": [
    {
     "data": {
      "text/html": [
       "<div>\n",
       "<style scoped>\n",
       "    .dataframe tbody tr th:only-of-type {\n",
       "        vertical-align: middle;\n",
       "    }\n",
       "\n",
       "    .dataframe tbody tr th {\n",
       "        vertical-align: top;\n",
       "    }\n",
       "\n",
       "    .dataframe thead th {\n",
       "        text-align: right;\n",
       "    }\n",
       "</style>\n",
       "<table border=\"1\" class=\"dataframe\">\n",
       "  <thead>\n",
       "    <tr style=\"text-align: right;\">\n",
       "      <th></th>\n",
       "      <th>Age</th>\n",
       "      <th>Attrition</th>\n",
       "      <th>BusinessTravel</th>\n",
       "      <th>DailyRate</th>\n",
       "      <th>Department</th>\n",
       "      <th>DistanceFromHome</th>\n",
       "      <th>Education</th>\n",
       "      <th>EducationField</th>\n",
       "      <th>EmployeeCount</th>\n",
       "      <th>EmployeeNumber</th>\n",
       "      <th>...</th>\n",
       "      <th>RelationshipSatisfaction</th>\n",
       "      <th>StandardHours</th>\n",
       "      <th>StockOptionLevel</th>\n",
       "      <th>TotalWorkingYears</th>\n",
       "      <th>TrainingTimesLastYear</th>\n",
       "      <th>WorkLifeBalance</th>\n",
       "      <th>YearsAtCompany</th>\n",
       "      <th>YearsInCurrentRole</th>\n",
       "      <th>YearsSinceLastPromotion</th>\n",
       "      <th>YearsWithCurrManager</th>\n",
       "    </tr>\n",
       "  </thead>\n",
       "  <tbody>\n",
       "    <tr>\n",
       "      <th>0</th>\n",
       "      <td>41</td>\n",
       "      <td>Yes</td>\n",
       "      <td>Travel_Rarely</td>\n",
       "      <td>1102</td>\n",
       "      <td>Sales</td>\n",
       "      <td>1</td>\n",
       "      <td>2</td>\n",
       "      <td>Life Sciences</td>\n",
       "      <td>1</td>\n",
       "      <td>1</td>\n",
       "      <td>...</td>\n",
       "      <td>1</td>\n",
       "      <td>80</td>\n",
       "      <td>0</td>\n",
       "      <td>8</td>\n",
       "      <td>0</td>\n",
       "      <td>1</td>\n",
       "      <td>6</td>\n",
       "      <td>4</td>\n",
       "      <td>0</td>\n",
       "      <td>5</td>\n",
       "    </tr>\n",
       "    <tr>\n",
       "      <th>1</th>\n",
       "      <td>49</td>\n",
       "      <td>No</td>\n",
       "      <td>Travel_Frequently</td>\n",
       "      <td>279</td>\n",
       "      <td>Research &amp; Development</td>\n",
       "      <td>8</td>\n",
       "      <td>1</td>\n",
       "      <td>Life Sciences</td>\n",
       "      <td>1</td>\n",
       "      <td>2</td>\n",
       "      <td>...</td>\n",
       "      <td>4</td>\n",
       "      <td>80</td>\n",
       "      <td>1</td>\n",
       "      <td>10</td>\n",
       "      <td>3</td>\n",
       "      <td>3</td>\n",
       "      <td>10</td>\n",
       "      <td>7</td>\n",
       "      <td>1</td>\n",
       "      <td>7</td>\n",
       "    </tr>\n",
       "    <tr>\n",
       "      <th>2</th>\n",
       "      <td>37</td>\n",
       "      <td>Yes</td>\n",
       "      <td>Travel_Rarely</td>\n",
       "      <td>1373</td>\n",
       "      <td>Research &amp; Development</td>\n",
       "      <td>2</td>\n",
       "      <td>2</td>\n",
       "      <td>Other</td>\n",
       "      <td>1</td>\n",
       "      <td>4</td>\n",
       "      <td>...</td>\n",
       "      <td>2</td>\n",
       "      <td>80</td>\n",
       "      <td>0</td>\n",
       "      <td>7</td>\n",
       "      <td>3</td>\n",
       "      <td>3</td>\n",
       "      <td>0</td>\n",
       "      <td>0</td>\n",
       "      <td>0</td>\n",
       "      <td>0</td>\n",
       "    </tr>\n",
       "    <tr>\n",
       "      <th>3</th>\n",
       "      <td>33</td>\n",
       "      <td>No</td>\n",
       "      <td>Travel_Frequently</td>\n",
       "      <td>1392</td>\n",
       "      <td>Research &amp; Development</td>\n",
       "      <td>3</td>\n",
       "      <td>4</td>\n",
       "      <td>Life Sciences</td>\n",
       "      <td>1</td>\n",
       "      <td>5</td>\n",
       "      <td>...</td>\n",
       "      <td>3</td>\n",
       "      <td>80</td>\n",
       "      <td>0</td>\n",
       "      <td>8</td>\n",
       "      <td>3</td>\n",
       "      <td>3</td>\n",
       "      <td>8</td>\n",
       "      <td>7</td>\n",
       "      <td>3</td>\n",
       "      <td>0</td>\n",
       "    </tr>\n",
       "    <tr>\n",
       "      <th>4</th>\n",
       "      <td>27</td>\n",
       "      <td>No</td>\n",
       "      <td>Travel_Rarely</td>\n",
       "      <td>591</td>\n",
       "      <td>Research &amp; Development</td>\n",
       "      <td>2</td>\n",
       "      <td>1</td>\n",
       "      <td>Medical</td>\n",
       "      <td>1</td>\n",
       "      <td>7</td>\n",
       "      <td>...</td>\n",
       "      <td>4</td>\n",
       "      <td>80</td>\n",
       "      <td>1</td>\n",
       "      <td>6</td>\n",
       "      <td>3</td>\n",
       "      <td>3</td>\n",
       "      <td>2</td>\n",
       "      <td>2</td>\n",
       "      <td>2</td>\n",
       "      <td>2</td>\n",
       "    </tr>\n",
       "  </tbody>\n",
       "</table>\n",
       "<p>5 rows × 35 columns</p>\n",
       "</div>"
      ],
      "text/plain": [
       "   Age Attrition     BusinessTravel  DailyRate              Department  \\\n",
       "0   41       Yes      Travel_Rarely       1102                   Sales   \n",
       "1   49        No  Travel_Frequently        279  Research & Development   \n",
       "2   37       Yes      Travel_Rarely       1373  Research & Development   \n",
       "3   33        No  Travel_Frequently       1392  Research & Development   \n",
       "4   27        No      Travel_Rarely        591  Research & Development   \n",
       "\n",
       "   DistanceFromHome  Education EducationField  EmployeeCount  EmployeeNumber  \\\n",
       "0                 1          2  Life Sciences              1               1   \n",
       "1                 8          1  Life Sciences              1               2   \n",
       "2                 2          2          Other              1               4   \n",
       "3                 3          4  Life Sciences              1               5   \n",
       "4                 2          1        Medical              1               7   \n",
       "\n",
       "   ...  RelationshipSatisfaction StandardHours  StockOptionLevel  \\\n",
       "0  ...                         1            80                 0   \n",
       "1  ...                         4            80                 1   \n",
       "2  ...                         2            80                 0   \n",
       "3  ...                         3            80                 0   \n",
       "4  ...                         4            80                 1   \n",
       "\n",
       "   TotalWorkingYears  TrainingTimesLastYear WorkLifeBalance  YearsAtCompany  \\\n",
       "0                  8                      0               1               6   \n",
       "1                 10                      3               3              10   \n",
       "2                  7                      3               3               0   \n",
       "3                  8                      3               3               8   \n",
       "4                  6                      3               3               2   \n",
       "\n",
       "  YearsInCurrentRole  YearsSinceLastPromotion  YearsWithCurrManager  \n",
       "0                  4                        0                     5  \n",
       "1                  7                        1                     7  \n",
       "2                  0                        0                     0  \n",
       "3                  7                        3                     0  \n",
       "4                  2                        2                     2  \n",
       "\n",
       "[5 rows x 35 columns]"
      ]
     },
     "execution_count": 5,
     "metadata": {},
     "output_type": "execute_result"
    }
   ],
   "source": [
    "df.head()"
   ]
  },
  {
   "cell_type": "markdown",
   "id": "18f70ad7",
   "metadata": {},
   "source": [
    "## **Explorartory Data Analysis**"
   ]
  },
  {
   "cell_type": "markdown",
   "id": "d9249027",
   "metadata": {},
   "source": [
    "### Finding for missing values"
   ]
  },
  {
   "cell_type": "code",
   "execution_count": 6,
   "id": "88af17e5",
   "metadata": {},
   "outputs": [
    {
     "data": {
      "text/plain": [
       "np.False_"
      ]
     },
     "execution_count": 6,
     "metadata": {},
     "output_type": "execute_result"
    }
   ],
   "source": [
    "df.isnull().values.any()"
   ]
  },
  {
   "cell_type": "code",
   "execution_count": 28,
   "id": "352e608a",
   "metadata": {},
   "outputs": [
    {
     "data": {
      "text/plain": [
       "(1470, 35)"
      ]
     },
     "execution_count": 28,
     "metadata": {},
     "output_type": "execute_result"
    }
   ],
   "source": [
    "df.shape"
   ]
  },
  {
   "cell_type": "markdown",
   "id": "cdde3930",
   "metadata": {},
   "source": [
    "The data consists of total **1470 rows** and **35 columns**"
   ]
  },
  {
   "cell_type": "code",
   "execution_count": 36,
   "id": "5aebe3b6",
   "metadata": {},
   "outputs": [
    {
     "data": {
      "text/plain": [
       "np.False_"
      ]
     },
     "execution_count": 36,
     "metadata": {},
     "output_type": "execute_result"
    }
   ],
   "source": [
    "df.duplicated().any()"
   ]
  },
  {
   "cell_type": "markdown",
   "id": "7df45afe",
   "metadata": {},
   "source": [
    "The data has no missing values and no duplicate values."
   ]
  },
  {
   "cell_type": "markdown",
   "id": "fd9e17f0",
   "metadata": {},
   "source": [
    "#### Taking only important features according to the problem statement"
   ]
  },
  {
   "cell_type": "code",
   "execution_count": 4,
   "id": "c52ede05",
   "metadata": {},
   "outputs": [
    {
     "data": {
      "text/html": [
       "<div>\n",
       "<style scoped>\n",
       "    .dataframe tbody tr th:only-of-type {\n",
       "        vertical-align: middle;\n",
       "    }\n",
       "\n",
       "    .dataframe tbody tr th {\n",
       "        vertical-align: top;\n",
       "    }\n",
       "\n",
       "    .dataframe thead th {\n",
       "        text-align: right;\n",
       "    }\n",
       "</style>\n",
       "<table border=\"1\" class=\"dataframe\">\n",
       "  <thead>\n",
       "    <tr style=\"text-align: right;\">\n",
       "      <th></th>\n",
       "      <th>Age</th>\n",
       "      <th>Attrition</th>\n",
       "      <th>BusinessTravel</th>\n",
       "      <th>DistanceFromHome</th>\n",
       "      <th>RelationshipSatisfaction</th>\n",
       "      <th>TotalWorkingYears</th>\n",
       "      <th>TrainingTimesLastYear</th>\n",
       "      <th>WorkLifeBalance</th>\n",
       "      <th>YearsAtCompany</th>\n",
       "      <th>YearsInCurrentRole</th>\n",
       "      <th>YearsSinceLastPromotion</th>\n",
       "      <th>YearsWithCurrManager</th>\n",
       "    </tr>\n",
       "  </thead>\n",
       "  <tbody>\n",
       "    <tr>\n",
       "      <th>0</th>\n",
       "      <td>41</td>\n",
       "      <td>Yes</td>\n",
       "      <td>Travel_Rarely</td>\n",
       "      <td>1</td>\n",
       "      <td>1</td>\n",
       "      <td>8</td>\n",
       "      <td>0</td>\n",
       "      <td>1</td>\n",
       "      <td>6</td>\n",
       "      <td>4</td>\n",
       "      <td>0</td>\n",
       "      <td>5</td>\n",
       "    </tr>\n",
       "    <tr>\n",
       "      <th>1</th>\n",
       "      <td>49</td>\n",
       "      <td>No</td>\n",
       "      <td>Travel_Frequently</td>\n",
       "      <td>8</td>\n",
       "      <td>4</td>\n",
       "      <td>10</td>\n",
       "      <td>3</td>\n",
       "      <td>3</td>\n",
       "      <td>10</td>\n",
       "      <td>7</td>\n",
       "      <td>1</td>\n",
       "      <td>7</td>\n",
       "    </tr>\n",
       "    <tr>\n",
       "      <th>2</th>\n",
       "      <td>37</td>\n",
       "      <td>Yes</td>\n",
       "      <td>Travel_Rarely</td>\n",
       "      <td>2</td>\n",
       "      <td>2</td>\n",
       "      <td>7</td>\n",
       "      <td>3</td>\n",
       "      <td>3</td>\n",
       "      <td>0</td>\n",
       "      <td>0</td>\n",
       "      <td>0</td>\n",
       "      <td>0</td>\n",
       "    </tr>\n",
       "    <tr>\n",
       "      <th>3</th>\n",
       "      <td>33</td>\n",
       "      <td>No</td>\n",
       "      <td>Travel_Frequently</td>\n",
       "      <td>3</td>\n",
       "      <td>3</td>\n",
       "      <td>8</td>\n",
       "      <td>3</td>\n",
       "      <td>3</td>\n",
       "      <td>8</td>\n",
       "      <td>7</td>\n",
       "      <td>3</td>\n",
       "      <td>0</td>\n",
       "    </tr>\n",
       "    <tr>\n",
       "      <th>4</th>\n",
       "      <td>27</td>\n",
       "      <td>No</td>\n",
       "      <td>Travel_Rarely</td>\n",
       "      <td>2</td>\n",
       "      <td>4</td>\n",
       "      <td>6</td>\n",
       "      <td>3</td>\n",
       "      <td>3</td>\n",
       "      <td>2</td>\n",
       "      <td>2</td>\n",
       "      <td>2</td>\n",
       "      <td>2</td>\n",
       "    </tr>\n",
       "  </tbody>\n",
       "</table>\n",
       "</div>"
      ],
      "text/plain": [
       "   Age Attrition     BusinessTravel  DistanceFromHome  \\\n",
       "0   41       Yes      Travel_Rarely                 1   \n",
       "1   49        No  Travel_Frequently                 8   \n",
       "2   37       Yes      Travel_Rarely                 2   \n",
       "3   33        No  Travel_Frequently                 3   \n",
       "4   27        No      Travel_Rarely                 2   \n",
       "\n",
       "   RelationshipSatisfaction  TotalWorkingYears  TrainingTimesLastYear  \\\n",
       "0                         1                  8                      0   \n",
       "1                         4                 10                      3   \n",
       "2                         2                  7                      3   \n",
       "3                         3                  8                      3   \n",
       "4                         4                  6                      3   \n",
       "\n",
       "   WorkLifeBalance  YearsAtCompany  YearsInCurrentRole  \\\n",
       "0                1               6                   4   \n",
       "1                3              10                   7   \n",
       "2                3               0                   0   \n",
       "3                3               8                   7   \n",
       "4                3               2                   2   \n",
       "\n",
       "   YearsSinceLastPromotion  YearsWithCurrManager  \n",
       "0                        0                     5  \n",
       "1                        1                     7  \n",
       "2                        0                     0  \n",
       "3                        3                     0  \n",
       "4                        2                     2  "
      ]
     },
     "execution_count": 4,
     "metadata": {},
     "output_type": "execute_result"
    }
   ],
   "source": [
    "df_updated = df[['Age','Attrition','BusinessTravel','DistanceFromHome','RelationshipSatisfaction', 'TotalWorkingYears', 'TrainingTimesLastYear', 'WorkLifeBalance'\t, 'YearsAtCompany', 'YearsInCurrentRole'\t, 'YearsSinceLastPromotion', 'YearsWithCurrManager']]\n",
    "df_updated.head()"
   ]
  },
  {
   "cell_type": "code",
   "execution_count": 29,
   "id": "df333a56",
   "metadata": {},
   "outputs": [
    {
     "name": "stdout",
     "output_type": "stream",
     "text": [
      "(RelationshipSatisfaction) Min :1 , Max: 4\n",
      "(WorkLifeBalance) Min :1 , Max: 4\n"
     ]
    }
   ],
   "source": [
    "print(f\"(RelationshipSatisfaction) Min :{df_updated['RelationshipSatisfaction'].min()} , Max: {df_updated['RelationshipSatisfaction'].max()}\")\n",
    "print(f\"(WorkLifeBalance) Min :{df_updated['WorkLifeBalance'].min()} , Max: {df_updated['WorkLifeBalance'].max()}\")"
   ]
  },
  {
   "cell_type": "markdown",
   "id": "8fdc30a8",
   "metadata": {},
   "source": [
    "The Relationship Satisfaction level of an employee can be mapped to numeric values from 1 to 4.  \n",
    "The Work Life Balance of an employee can be mapped to numeric values from 1 to 4.  \n",
    "\n",
    "where 1 is least and 4 is highest."
   ]
  },
  {
   "cell_type": "code",
   "execution_count": 30,
   "id": "e112454f",
   "metadata": {},
   "outputs": [
    {
     "name": "stdout",
     "output_type": "stream",
     "text": [
      "(DistanceFromHome) Min :1 , Max: 29\n",
      "(TotalWorkingYears) Min :0 , Max: 40\n",
      "(YearsAtCompany) Min :0 , Max: 40\n"
     ]
    }
   ],
   "source": [
    "\n",
    "print(f\"(DistanceFromHome) Min :{df_updated['DistanceFromHome'].min()} , Max: {df_updated['DistanceFromHome'].max()}\")\n",
    "print(f\"(TotalWorkingYears) Min :{df_updated['TotalWorkingYears'].min()} , Max: {df_updated['TotalWorkingYears'].max()}\")\n",
    "print(f\"(YearsAtCompany) Min :{df_updated['YearsAtCompany'].min()} , Max: {df_updated['YearsAtCompany'].max()}\")"
   ]
  },
  {
   "cell_type": "markdown",
   "id": "1eb11223",
   "metadata": {},
   "source": [
    "The company has employees who come to the office from a distance of between 1 Km to 29 Km.  \n",
    " The company also has employees with 0 years of expeirence with max of 40 years of experience."
   ]
  },
  {
   "cell_type": "markdown",
   "id": "abb52fe3",
   "metadata": {},
   "source": [
    "What is the average distance an employee lives from office?"
   ]
  },
  {
   "cell_type": "code",
   "execution_count": 31,
   "id": "78f2e0e9",
   "metadata": {},
   "outputs": [
    {
     "data": {
      "text/plain": [
       "9.19251700680272"
      ]
     },
     "execution_count": 31,
     "metadata": {},
     "output_type": "execute_result"
    }
   ],
   "source": [
    "float(df_updated['DistanceFromHome'].mean())"
   ]
  },
  {
   "cell_type": "markdown",
   "id": "0e8b9325",
   "metadata": {},
   "source": [
    "What is the average age of the employee?"
   ]
  },
  {
   "cell_type": "code",
   "execution_count": 32,
   "id": "e35f2980",
   "metadata": {},
   "outputs": [
    {
     "data": {
      "text/plain": [
       "36"
      ]
     },
     "execution_count": 32,
     "metadata": {},
     "output_type": "execute_result"
    }
   ],
   "source": [
    "int(df_updated['Age'].mean())"
   ]
  },
  {
   "cell_type": "markdown",
   "id": "4a62aac3",
   "metadata": {},
   "source": [
    "What is the average Relationship Satisfaction level?"
   ]
  },
  {
   "cell_type": "code",
   "execution_count": 33,
   "id": "de48f022",
   "metadata": {},
   "outputs": [
    {
     "data": {
      "text/plain": [
       "2"
      ]
     },
     "execution_count": 33,
     "metadata": {},
     "output_type": "execute_result"
    }
   ],
   "source": [
    "int(df_updated['RelationshipSatisfaction'].mean())"
   ]
  },
  {
   "cell_type": "markdown",
   "id": "b9741c0e",
   "metadata": {},
   "source": [
    "What is the average tenure of people working at the company?"
   ]
  },
  {
   "cell_type": "code",
   "execution_count": 34,
   "id": "28785f40",
   "metadata": {},
   "outputs": [
    {
     "data": {
      "text/plain": [
       "7"
      ]
     },
     "execution_count": 34,
     "metadata": {},
     "output_type": "execute_result"
    }
   ],
   "source": [
    "int(df_updated['YearsAtCompany'].mean())"
   ]
  },
  {
   "cell_type": "markdown",
   "id": "ddc1c505",
   "metadata": {},
   "source": [
    "What is total percentage of attrition?"
   ]
  },
  {
   "cell_type": "code",
   "execution_count": 35,
   "id": "31947f0e",
   "metadata": {},
   "outputs": [
    {
     "data": {
      "text/plain": [
       "Attrition\n",
       "No     1233\n",
       "Yes     237\n",
       "Name: count, dtype: int64"
      ]
     },
     "execution_count": 35,
     "metadata": {},
     "output_type": "execute_result"
    }
   ],
   "source": [
    "df_updated['Attrition'].value_counts()"
   ]
  },
  {
   "cell_type": "markdown",
   "id": "d09b6522",
   "metadata": {},
   "source": [
    "Out of total 1470 employees the attrition has occured between 237 employees which is **around 17%**."
   ]
  },
  {
   "cell_type": "markdown",
   "id": "d593f39d",
   "metadata": {},
   "source": [
    "What is the average age of the employees who contributes in attrition?"
   ]
  },
  {
   "cell_type": "code",
   "execution_count": 39,
   "id": "fbb399d6",
   "metadata": {},
   "outputs": [
    {
     "data": {
      "text/plain": [
       "33"
      ]
     },
     "execution_count": 39,
     "metadata": {},
     "output_type": "execute_result"
    }
   ],
   "source": [
    "int(df_updated[df_updated['Attrition'] == \"Yes\"]['Age'].mean())"
   ]
  },
  {
   "cell_type": "markdown",
   "id": "de7e08e4",
   "metadata": {},
   "source": [
    "What is the average tenure of working years before leaving?"
   ]
  },
  {
   "cell_type": "code",
   "execution_count": 40,
   "id": "218fc9fd",
   "metadata": {},
   "outputs": [
    {
     "data": {
      "text/plain": [
       "5"
      ]
     },
     "execution_count": 40,
     "metadata": {},
     "output_type": "execute_result"
    }
   ],
   "source": [
    "int(df_updated[df_updated['Attrition'] == \"Yes\"]['YearsAtCompany'].mean())"
   ]
  },
  {
   "cell_type": "markdown",
   "id": "de851432",
   "metadata": {},
   "source": [
    "What is the average total working tenure before leaving the company?"
   ]
  },
  {
   "cell_type": "code",
   "execution_count": 41,
   "id": "f1d8957d",
   "metadata": {},
   "outputs": [
    {
     "data": {
      "text/plain": [
       "8"
      ]
     },
     "execution_count": 41,
     "metadata": {},
     "output_type": "execute_result"
    }
   ],
   "source": [
    "int(df_updated[df_updated['Attrition'] == \"Yes\"]['TotalWorkingYears'].mean())"
   ]
  },
  {
   "cell_type": "markdown",
   "id": "83794250",
   "metadata": {},
   "source": [
    "What is the average level of work life balance before leaving the company?"
   ]
  },
  {
   "cell_type": "code",
   "execution_count": 42,
   "id": "5e924067",
   "metadata": {},
   "outputs": [
    {
     "data": {
      "text/plain": [
       "2"
      ]
     },
     "execution_count": 42,
     "metadata": {},
     "output_type": "execute_result"
    }
   ],
   "source": [
    "int(df_updated[df_updated['Attrition'] == \"Yes\"]['WorkLifeBalance'].mean())"
   ]
  },
  {
   "cell_type": "markdown",
   "id": "38249dab",
   "metadata": {},
   "source": [
    "What is the average level of Relationship Satisfaction before leaving the company?"
   ]
  },
  {
   "cell_type": "code",
   "execution_count": 44,
   "id": "1b450357",
   "metadata": {},
   "outputs": [
    {
     "data": {
      "text/plain": [
       "2"
      ]
     },
     "execution_count": 44,
     "metadata": {},
     "output_type": "execute_result"
    }
   ],
   "source": [
    "int(df_updated[df_updated['Attrition'] == \"Yes\"]['RelationshipSatisfaction'].mean())"
   ]
  },
  {
   "cell_type": "markdown",
   "id": "3b60dfd6",
   "metadata": {},
   "source": [
    "What is the average distance employee travels who leave the company?"
   ]
  },
  {
   "cell_type": "code",
   "execution_count": 47,
   "id": "4114ae5b",
   "metadata": {},
   "outputs": [
    {
     "data": {
      "text/plain": [
       "10.632911392405063"
      ]
     },
     "execution_count": 47,
     "metadata": {},
     "output_type": "execute_result"
    }
   ],
   "source": [
    "float(df_updated[df_updated['Attrition'] == \"Yes\"]['DistanceFromHome'].mean())"
   ]
  },
  {
   "cell_type": "markdown",
   "id": "8acd8c59",
   "metadata": {},
   "source": [
    "As there are various employees with different age groups so it is difficult to anlyze and get the insights from the data so creating age groups to better analyze and detect the trends if any.\n",
    "\n",
    "The age groups are:  \n",
    "18-30,   \n",
    "30-40,  \n",
    "40-50,  \n",
    "50-60. "
   ]
  },
  {
   "cell_type": "code",
   "execution_count": null,
   "id": "262be57e",
   "metadata": {},
   "outputs": [
    {
     "name": "stderr",
     "output_type": "stream",
     "text": [
      "/var/folders/l1/kcfsdr451n98nd8gxcg2bzgw0000gn/T/ipykernel_91550/2573771337.py:4: SettingWithCopyWarning: \n",
      "A value is trying to be set on a copy of a slice from a DataFrame.\n",
      "Try using .loc[row_indexer,col_indexer] = value instead\n",
      "\n",
      "See the caveats in the documentation: https://pandas.pydata.org/pandas-docs/stable/user_guide/indexing.html#returning-a-view-versus-a-copy\n",
      "  df_updated['Age Group'] = pd.cut(df['Age'], bins=bins, labels=labels, right=False)\n"
     ]
    },
    {
     "data": {
      "text/html": [
       "<div>\n",
       "<style scoped>\n",
       "    .dataframe tbody tr th:only-of-type {\n",
       "        vertical-align: middle;\n",
       "    }\n",
       "\n",
       "    .dataframe tbody tr th {\n",
       "        vertical-align: top;\n",
       "    }\n",
       "\n",
       "    .dataframe thead th {\n",
       "        text-align: right;\n",
       "    }\n",
       "</style>\n",
       "<table border=\"1\" class=\"dataframe\">\n",
       "  <thead>\n",
       "    <tr style=\"text-align: right;\">\n",
       "      <th></th>\n",
       "      <th>Age</th>\n",
       "      <th>Attrition</th>\n",
       "      <th>BusinessTravel</th>\n",
       "      <th>DistanceFromHome</th>\n",
       "      <th>RelationshipSatisfaction</th>\n",
       "      <th>TotalWorkingYears</th>\n",
       "      <th>TrainingTimesLastYear</th>\n",
       "      <th>WorkLifeBalance</th>\n",
       "      <th>YearsAtCompany</th>\n",
       "      <th>YearsInCurrentRole</th>\n",
       "      <th>YearsSinceLastPromotion</th>\n",
       "      <th>YearsWithCurrManager</th>\n",
       "      <th>Age Group</th>\n",
       "    </tr>\n",
       "  </thead>\n",
       "  <tbody>\n",
       "    <tr>\n",
       "      <th>0</th>\n",
       "      <td>41</td>\n",
       "      <td>Yes</td>\n",
       "      <td>Travel_Rarely</td>\n",
       "      <td>1</td>\n",
       "      <td>1</td>\n",
       "      <td>8</td>\n",
       "      <td>0</td>\n",
       "      <td>1</td>\n",
       "      <td>6</td>\n",
       "      <td>4</td>\n",
       "      <td>0</td>\n",
       "      <td>5</td>\n",
       "      <td>40-50</td>\n",
       "    </tr>\n",
       "    <tr>\n",
       "      <th>1</th>\n",
       "      <td>49</td>\n",
       "      <td>No</td>\n",
       "      <td>Travel_Frequently</td>\n",
       "      <td>8</td>\n",
       "      <td>4</td>\n",
       "      <td>10</td>\n",
       "      <td>3</td>\n",
       "      <td>3</td>\n",
       "      <td>10</td>\n",
       "      <td>7</td>\n",
       "      <td>1</td>\n",
       "      <td>7</td>\n",
       "      <td>50-60</td>\n",
       "    </tr>\n",
       "    <tr>\n",
       "      <th>2</th>\n",
       "      <td>37</td>\n",
       "      <td>Yes</td>\n",
       "      <td>Travel_Rarely</td>\n",
       "      <td>2</td>\n",
       "      <td>2</td>\n",
       "      <td>7</td>\n",
       "      <td>3</td>\n",
       "      <td>3</td>\n",
       "      <td>0</td>\n",
       "      <td>0</td>\n",
       "      <td>0</td>\n",
       "      <td>0</td>\n",
       "      <td>30-40</td>\n",
       "    </tr>\n",
       "    <tr>\n",
       "      <th>3</th>\n",
       "      <td>33</td>\n",
       "      <td>No</td>\n",
       "      <td>Travel_Frequently</td>\n",
       "      <td>3</td>\n",
       "      <td>3</td>\n",
       "      <td>8</td>\n",
       "      <td>3</td>\n",
       "      <td>3</td>\n",
       "      <td>8</td>\n",
       "      <td>7</td>\n",
       "      <td>3</td>\n",
       "      <td>0</td>\n",
       "      <td>30-40</td>\n",
       "    </tr>\n",
       "    <tr>\n",
       "      <th>4</th>\n",
       "      <td>27</td>\n",
       "      <td>No</td>\n",
       "      <td>Travel_Rarely</td>\n",
       "      <td>2</td>\n",
       "      <td>4</td>\n",
       "      <td>6</td>\n",
       "      <td>3</td>\n",
       "      <td>3</td>\n",
       "      <td>2</td>\n",
       "      <td>2</td>\n",
       "      <td>2</td>\n",
       "      <td>2</td>\n",
       "      <td>18-30</td>\n",
       "    </tr>\n",
       "  </tbody>\n",
       "</table>\n",
       "</div>"
      ],
      "text/plain": [
       "   Age Attrition     BusinessTravel  DistanceFromHome  \\\n",
       "0   41       Yes      Travel_Rarely                 1   \n",
       "1   49        No  Travel_Frequently                 8   \n",
       "2   37       Yes      Travel_Rarely                 2   \n",
       "3   33        No  Travel_Frequently                 3   \n",
       "4   27        No      Travel_Rarely                 2   \n",
       "\n",
       "   RelationshipSatisfaction  TotalWorkingYears  TrainingTimesLastYear  \\\n",
       "0                         1                  8                      0   \n",
       "1                         4                 10                      3   \n",
       "2                         2                  7                      3   \n",
       "3                         3                  8                      3   \n",
       "4                         4                  6                      3   \n",
       "\n",
       "   WorkLifeBalance  YearsAtCompany  YearsInCurrentRole  \\\n",
       "0                1               6                   4   \n",
       "1                3              10                   7   \n",
       "2                3               0                   0   \n",
       "3                3               8                   7   \n",
       "4                3               2                   2   \n",
       "\n",
       "   YearsSinceLastPromotion  YearsWithCurrManager Age Group  \n",
       "0                        0                     5     40-50  \n",
       "1                        1                     7     50-60  \n",
       "2                        0                     0     30-40  \n",
       "3                        3                     0     30-40  \n",
       "4                        2                     2     18-30  "
      ]
     },
     "execution_count": 9,
     "metadata": {},
     "output_type": "execute_result"
    }
   ],
   "source": [
    "bins = [18, 29, 39, 49, 59 ]\n",
    "labels = ['18-30', '30-40', '40-50', '50-60']\n",
    "\n",
    "df_updated['Age Group'] = pd.cut(df_updated['Age'], bins=bins, labels=labels, right=False)\n",
    "df_updated.head()"
   ]
  },
  {
   "cell_type": "markdown",
   "id": "367a66fe",
   "metadata": {},
   "source": [
    "what is the distribution among the different age groups?"
   ]
  },
  {
   "cell_type": "code",
   "execution_count": 16,
   "id": "28322fb5",
   "metadata": {},
   "outputs": [
    {
     "data": {
      "text/plain": [
       "Age Group\n",
       "18-30    258\n",
       "30-40    648\n",
       "40-50    367\n",
       "50-60    182\n",
       "Name: count, dtype: int64"
      ]
     },
     "execution_count": 16,
     "metadata": {},
     "output_type": "execute_result"
    }
   ],
   "source": [
    "df_updated['Age Group'].value_counts().sort_index()"
   ]
  },
  {
   "cell_type": "markdown",
   "id": "afea22a0",
   "metadata": {},
   "source": [
    "As there are various employees who travel from various distances to the office this travel distance may contribute some in attrition in order to analyze that creating different groups for easy identification.\n",
    "\n",
    "The distance groups are:  \n",
    "1-10,   \n",
    "10-20,  \n",
    "20-30."
   ]
  },
  {
   "cell_type": "code",
   "execution_count": 22,
   "id": "9230cb25",
   "metadata": {},
   "outputs": [
    {
     "name": "stderr",
     "output_type": "stream",
     "text": [
      "/var/folders/l1/kcfsdr451n98nd8gxcg2bzgw0000gn/T/ipykernel_91550/412734402.py:4: SettingWithCopyWarning: \n",
      "A value is trying to be set on a copy of a slice from a DataFrame.\n",
      "Try using .loc[row_indexer,col_indexer] = value instead\n",
      "\n",
      "See the caveats in the documentation: https://pandas.pydata.org/pandas-docs/stable/user_guide/indexing.html#returning-a-view-versus-a-copy\n",
      "  df_updated['Distance Group'] = pd.cut(df_updated['DistanceFromHome'], bins=bins, labels=labels, right=False)\n"
     ]
    },
    {
     "data": {
      "text/html": [
       "<div>\n",
       "<style scoped>\n",
       "    .dataframe tbody tr th:only-of-type {\n",
       "        vertical-align: middle;\n",
       "    }\n",
       "\n",
       "    .dataframe tbody tr th {\n",
       "        vertical-align: top;\n",
       "    }\n",
       "\n",
       "    .dataframe thead th {\n",
       "        text-align: right;\n",
       "    }\n",
       "</style>\n",
       "<table border=\"1\" class=\"dataframe\">\n",
       "  <thead>\n",
       "    <tr style=\"text-align: right;\">\n",
       "      <th></th>\n",
       "      <th>Age</th>\n",
       "      <th>Attrition</th>\n",
       "      <th>BusinessTravel</th>\n",
       "      <th>DistanceFromHome</th>\n",
       "      <th>RelationshipSatisfaction</th>\n",
       "      <th>TotalWorkingYears</th>\n",
       "      <th>TrainingTimesLastYear</th>\n",
       "      <th>WorkLifeBalance</th>\n",
       "      <th>YearsAtCompany</th>\n",
       "      <th>YearsInCurrentRole</th>\n",
       "      <th>YearsSinceLastPromotion</th>\n",
       "      <th>YearsWithCurrManager</th>\n",
       "      <th>Age Group</th>\n",
       "      <th>Distance Group</th>\n",
       "    </tr>\n",
       "  </thead>\n",
       "  <tbody>\n",
       "    <tr>\n",
       "      <th>0</th>\n",
       "      <td>41</td>\n",
       "      <td>Yes</td>\n",
       "      <td>Travel_Rarely</td>\n",
       "      <td>1</td>\n",
       "      <td>1</td>\n",
       "      <td>8</td>\n",
       "      <td>0</td>\n",
       "      <td>1</td>\n",
       "      <td>6</td>\n",
       "      <td>4</td>\n",
       "      <td>0</td>\n",
       "      <td>5</td>\n",
       "      <td>40-50</td>\n",
       "      <td>1-10</td>\n",
       "    </tr>\n",
       "    <tr>\n",
       "      <th>1</th>\n",
       "      <td>49</td>\n",
       "      <td>No</td>\n",
       "      <td>Travel_Frequently</td>\n",
       "      <td>8</td>\n",
       "      <td>4</td>\n",
       "      <td>10</td>\n",
       "      <td>3</td>\n",
       "      <td>3</td>\n",
       "      <td>10</td>\n",
       "      <td>7</td>\n",
       "      <td>1</td>\n",
       "      <td>7</td>\n",
       "      <td>50-60</td>\n",
       "      <td>1-10</td>\n",
       "    </tr>\n",
       "    <tr>\n",
       "      <th>2</th>\n",
       "      <td>37</td>\n",
       "      <td>Yes</td>\n",
       "      <td>Travel_Rarely</td>\n",
       "      <td>2</td>\n",
       "      <td>2</td>\n",
       "      <td>7</td>\n",
       "      <td>3</td>\n",
       "      <td>3</td>\n",
       "      <td>0</td>\n",
       "      <td>0</td>\n",
       "      <td>0</td>\n",
       "      <td>0</td>\n",
       "      <td>30-40</td>\n",
       "      <td>1-10</td>\n",
       "    </tr>\n",
       "    <tr>\n",
       "      <th>3</th>\n",
       "      <td>33</td>\n",
       "      <td>No</td>\n",
       "      <td>Travel_Frequently</td>\n",
       "      <td>3</td>\n",
       "      <td>3</td>\n",
       "      <td>8</td>\n",
       "      <td>3</td>\n",
       "      <td>3</td>\n",
       "      <td>8</td>\n",
       "      <td>7</td>\n",
       "      <td>3</td>\n",
       "      <td>0</td>\n",
       "      <td>30-40</td>\n",
       "      <td>1-10</td>\n",
       "    </tr>\n",
       "    <tr>\n",
       "      <th>4</th>\n",
       "      <td>27</td>\n",
       "      <td>No</td>\n",
       "      <td>Travel_Rarely</td>\n",
       "      <td>2</td>\n",
       "      <td>4</td>\n",
       "      <td>6</td>\n",
       "      <td>3</td>\n",
       "      <td>3</td>\n",
       "      <td>2</td>\n",
       "      <td>2</td>\n",
       "      <td>2</td>\n",
       "      <td>2</td>\n",
       "      <td>18-30</td>\n",
       "      <td>1-10</td>\n",
       "    </tr>\n",
       "  </tbody>\n",
       "</table>\n",
       "</div>"
      ],
      "text/plain": [
       "   Age Attrition     BusinessTravel  DistanceFromHome  \\\n",
       "0   41       Yes      Travel_Rarely                 1   \n",
       "1   49        No  Travel_Frequently                 8   \n",
       "2   37       Yes      Travel_Rarely                 2   \n",
       "3   33        No  Travel_Frequently                 3   \n",
       "4   27        No      Travel_Rarely                 2   \n",
       "\n",
       "   RelationshipSatisfaction  TotalWorkingYears  TrainingTimesLastYear  \\\n",
       "0                         1                  8                      0   \n",
       "1                         4                 10                      3   \n",
       "2                         2                  7                      3   \n",
       "3                         3                  8                      3   \n",
       "4                         4                  6                      3   \n",
       "\n",
       "   WorkLifeBalance  YearsAtCompany  YearsInCurrentRole  \\\n",
       "0                1               6                   4   \n",
       "1                3              10                   7   \n",
       "2                3               0                   0   \n",
       "3                3               8                   7   \n",
       "4                3               2                   2   \n",
       "\n",
       "   YearsSinceLastPromotion  YearsWithCurrManager Age Group Distance Group  \n",
       "0                        0                     5     40-50           1-10  \n",
       "1                        1                     7     50-60           1-10  \n",
       "2                        0                     0     30-40           1-10  \n",
       "3                        3                     0     30-40           1-10  \n",
       "4                        2                     2     18-30           1-10  "
      ]
     },
     "execution_count": 22,
     "metadata": {},
     "output_type": "execute_result"
    }
   ],
   "source": [
    "bins = [0,10, 19, 29]\n",
    "labels = ['1-10', '10-20', '20-30']\n",
    "\n",
    "df_updated['Distance Group'] = pd.cut(df_updated['DistanceFromHome'], bins=bins, labels=labels, right=False)\n",
    "df_updated.head()"
   ]
  },
  {
   "cell_type": "markdown",
   "id": "31e5a430",
   "metadata": {},
   "source": [
    "### **Data Visualization**"
   ]
  },
  {
   "cell_type": "markdown",
   "id": "a3ed2190",
   "metadata": {},
   "source": [
    "The Relationship Satisfaction Vs Attrition."
   ]
  },
  {
   "cell_type": "code",
   "execution_count": 5,
   "id": "a4bd0017",
   "metadata": {},
   "outputs": [
    {
     "data": {
      "image/png": "[encoded data removed]",
      "text/plain": [
       "<Figure size 800x500 with 1 Axes>"
      ]
     },
     "metadata": {},
     "output_type": "display_data"
    }
   ],
   "source": [
    "plt.figure(figsize=(8, 5))\n",
    "sns.countplot(data=df_updated, x='RelationshipSatisfaction', hue='Attrition', palette={'Yes': '#17726d', 'No':'#b2b08f'})\n",
    "plt.title(\"Relationship Satisfaction Vs Attrition\")\n",
    "plt.xlabel(\"Relationship Satisfaction\")\n",
    "plt.ylabel(\"Count\")\n",
    "plt.legend(title = \"Attrition\")\n",
    "plt.tight_layout()"
   ]
  },
  {
   "cell_type": "markdown",
   "id": "f22685c9",
   "metadata": {},
   "source": [
    "From the above graph we can conclude that the people with low relationship satisfaction level tend to leave jobs.  \n",
    "And also the overall relationship satisfaction level of employees in the company is good as most of the employee have level 3 of the relationship satisfaction."
   ]
  },
  {
   "cell_type": "markdown",
   "id": "3c9e7dcf",
   "metadata": {},
   "source": [
    "Work Life Balance Vs Attrition."
   ]
  },
  {
   "cell_type": "code",
   "execution_count": 6,
   "id": "f9fb0952",
   "metadata": {},
   "outputs": [
    {
     "data": {
      "image/png": "[encoded data removed]",
      "text/plain": [
       "<Figure size 800x500 with 1 Axes>"
      ]
     },
     "metadata": {},
     "output_type": "display_data"
    }
   ],
   "source": [
    "plt.figure(figsize=(8, 5))\n",
    "sns.countplot(data=df_updated, x='WorkLifeBalance', hue='Attrition', palette={'Yes': '#17726d', 'No':'#b2b08f'})\n",
    "plt.title(\"Work Life Balance Vs Attrition\")\n",
    "plt.xlabel(\"Work Life Balance\")\n",
    "plt.ylabel(\"Count\")\n",
    "plt.legend(title = \"Attrition\")\n",
    "plt.tight_layout()"
   ]
  },
  {
   "cell_type": "markdown",
   "id": "7c410d49",
   "metadata": {},
   "source": [
    "The work life balance plays an important role in employee attrition as the lower level of work life balance might lead into higher attrition as we can see in the graph."
   ]
  },
  {
   "cell_type": "markdown",
   "id": "446ab4d6",
   "metadata": {},
   "source": [
    "Distance from home Vs Attrition"
   ]
  },
  {
   "cell_type": "code",
   "execution_count": 26,
   "id": "43abccb5",
   "metadata": {},
   "outputs": [
    {
     "data": {
      "image/png": "[encoded data removed]",
      "text/plain": [
       "<Figure size 1000x600 with 1 Axes>"
      ]
     },
     "metadata": {},
     "output_type": "display_data"
    }
   ],
   "source": [
    "plt.figure(figsize=(10,6))\n",
    "sns.countplot(data=df_updated, x='Distance Group', hue='Attrition',palette={'Yes': '#17726d', 'No':'#b2b08f'})\n",
    "plt.title('Employee Distance from Home by Attrition Status')\n",
    "plt.xlabel('Distance From Home')\n",
    "plt.ylabel('Count')\n",
    "plt.legend(title='Attrition')\n",
    "plt.tight_layout()\n",
    "plt.show()"
   ]
  },
  {
   "cell_type": "markdown",
   "id": "13b81101",
   "metadata": {},
   "source": [
    "Attrition status by years at the company"
   ]
  },
  {
   "cell_type": "code",
   "execution_count": 13,
   "id": "aea35701",
   "metadata": {},
   "outputs": [
    {
     "data": {
      "image/png": "[encoded data removed]",
      "text/plain": [
       "<Figure size 800x500 with 1 Axes>"
      ]
     },
     "metadata": {},
     "output_type": "display_data"
    }
   ],
   "source": [
    "attrition = df[df_updated['Attrition'] == \"Yes\"]\n",
    "age_attrition_count = attrition['YearsAtCompany'].value_counts().sort_index()\n",
    "\n",
    "\n",
    "plt.figure(figsize=(8, 5))\n",
    "sns.lineplot(x=age_attrition_count.index, y=age_attrition_count.values, markers='o',color = '#17726d')\n",
    "plt.title(\"Attrition count by years at company\")\n",
    "plt.xlabel(\"Years At Company\")\n",
    "plt.ylabel(\"Count\")\n",
    "plt.tight_layout()"
   ]
  },
  {
   "cell_type": "markdown",
   "id": "686e53ef",
   "metadata": {},
   "source": [
    "From the above graph we can clearly see that the employees who are there for more than 10 years are tend to stay than the fresh joiners.  \n",
    "After 10 years at the company the employees stay."
   ]
  },
  {
   "cell_type": "markdown",
   "id": "7a6687c1",
   "metadata": {},
   "source": [
    "Age Group Distribution among the employees who left"
   ]
  },
  {
   "cell_type": "code",
   "execution_count": 11,
   "id": "1661e47f",
   "metadata": {},
   "outputs": [
    {
     "name": "stderr",
     "output_type": "stream",
     "text": [
      "/var/folders/l1/kcfsdr451n98nd8gxcg2bzgw0000gn/T/ipykernel_91550/4078471064.py:1: FutureWarning: The default of observed=False is deprecated and will be changed to True in a future version of pandas. Pass observed=False to retain current behavior or observed=True to adopt the future default and silence this warning.\n",
      "  age_group_attrition = df_updated.groupby(['Attrition', 'Age Group']).size().loc['Yes']\n"
     ]
    },
    {
     "data": {
      "image/png": "[encoded data removed]",
      "text/plain": [
       "<Figure size 600x600 with 1 Axes>"
      ]
     },
     "metadata": {},
     "output_type": "display_data"
    }
   ],
   "source": [
    "age_group_attrition = df_updated.groupby(['Attrition', 'Age Group']).size().loc['Yes']\n",
    "colors = ['#17726d', '#b2b08f', '#eae4d2', '#f6f6f6']\n",
    "plt.figure(figsize=(6, 6))\n",
    "plt.pie(age_group_attrition, labels=age_group_attrition.index, autopct=\"%1.1f%%\", startangle=90, colors=colors)\n",
    "plt.title(\"Age Group Distrubution among employees who left\")\n",
    "plt.tight_layout()"
   ]
  },
  {
   "cell_type": "markdown",
   "id": "db725f1a",
   "metadata": {},
   "source": [
    "The majority of emplyees who left are from the age group 30-40 which comes under freshers and mid level experienced employees.  \n",
    "The older the employee tend to stay."
   ]
  },
  {
   "cell_type": "markdown",
   "id": "6d53a3bf",
   "metadata": {},
   "source": [
    "### **Hypothesis Testing**"
   ]
  },
  {
   "cell_type": "markdown",
   "id": "d404f3b6",
   "metadata": {},
   "source": [
    "Distance from Home\n",
    "\n",
    "**Null Hypothesis:** The distance doesn't affects the attrition.  \n",
    "**Alternate Hypothesis:** The distance affects the attrition."
   ]
  },
  {
   "cell_type": "code",
   "execution_count": 57,
   "id": "51946ba6",
   "metadata": {},
   "outputs": [
    {
     "name": "stdout",
     "output_type": "stream",
     "text": [
      "T-Statistic: 2.8882\n",
      "P-Value: 0.0041\n"
     ]
    }
   ],
   "source": [
    "from scipy.stats import ttest_ind\n",
    "\n",
    "left = df_updated[df_updated['Attrition'] == \"Yes\"]['DistanceFromHome']\n",
    "stayed  = df_updated[df_updated['Attrition'] == \"No\"]['DistanceFromHome']\n",
    "\n",
    "t_stat, p_value = ttest_ind(left, stayed, equal_var=False)\n",
    "\n",
    "print(f\"T-Statistic: {t_stat:.4f}\")\n",
    "print(f\"P-Value: {p_value:.4f}\")"
   ]
  },
  {
   "cell_type": "markdown",
   "id": "5fe52350",
   "metadata": {},
   "source": [
    "As the p-value is less that 0.05, we reject the null hypothesis suggesting that the distance from home of the employee affects the employee attrition."
   ]
  },
  {
   "cell_type": "markdown",
   "id": "e68cf1a3",
   "metadata": {},
   "source": [
    "Age  \n",
    "**Null Hypothesis:** The age of the employee doesn't affect the employee attrition.  \n",
    "**Alternate Hypothesis:** The age of the employee affects the employee attrition."
   ]
  },
  {
   "cell_type": "code",
   "execution_count": 58,
   "id": "569c0a4c",
   "metadata": {},
   "outputs": [
    {
     "name": "stdout",
     "output_type": "stream",
     "text": [
      "T-Statistic: -5.8280\n",
      "P-Value: 0.0000\n"
     ]
    }
   ],
   "source": [
    "from scipy.stats import ttest_ind\n",
    "\n",
    "left = df_updated[df_updated['Attrition'] == \"Yes\"]['Age']\n",
    "stayed  = df_updated[df_updated['Attrition'] == \"No\"]['Age']\n",
    "\n",
    "t_stat, p_value = ttest_ind(left, stayed, equal_var=False)\n",
    "\n",
    "print(f\"T-Statistic: {t_stat:.4f}\")\n",
    "print(f\"P-Value: {p_value:.4f}\")"
   ]
  },
  {
   "cell_type": "markdown",
   "id": "b50084ba",
   "metadata": {},
   "source": [
    "As the p-value is less that 0.05, we reject the null hypothesis suggesting that the age of the employee affects the employee attrition."
   ]
  },
  {
   "cell_type": "markdown",
   "id": "efc44f21",
   "metadata": {},
   "source": [
    "Relationship satisfaction  \n",
    "**Null Hypothesis:** Relationship satisfaction is independent of attrition.  \n",
    "**Alternate Hypothesis:** Relationship satisfaction is associated with attrition."
   ]
  },
  {
   "cell_type": "code",
   "execution_count": 59,
   "id": "37df54da",
   "metadata": {},
   "outputs": [
    {
     "name": "stdout",
     "output_type": "stream",
     "text": [
      "Chi-Square Statistic: 5.2411\n",
      "P-value: 0.1550\n",
      "Degrees of Freedom: 3\n"
     ]
    }
   ],
   "source": [
    "from scipy.stats import chi2_contingency\n",
    "\n",
    "contigency_table = pd.crosstab(df_updated['RelationshipSatisfaction'], df_updated['Attrition'])\n",
    "\n",
    "chi2_stat, p, dof, expected = chi2_contingency(contigency_table)\n",
    "print(f\"Chi-Square Statistic: {chi2_stat:.4f}\")\n",
    "print(f\"P-value: {p:.4f}\")\n",
    "print(f\"Degrees of Freedom: {dof}\")"
   ]
  },
  {
   "cell_type": "markdown",
   "id": "553305bc",
   "metadata": {},
   "source": [
    "As the p-value is greater that 0.05, we fail to reject the null hypothesis suggesting that the relationship satisfaction level of the employee is independent of the employee attrition."
   ]
  },
  {
   "cell_type": "markdown",
   "id": "56342fa3",
   "metadata": {},
   "source": [
    "Work Life Balance    \n",
    "**Null Hypothesis:** Work Life Balance is independent of attrition.  \n",
    "**Alternate Hypothesis:** Work Life Balance is associated with attrition."
   ]
  },
  {
   "cell_type": "code",
   "execution_count": 60,
   "id": "6798fbee",
   "metadata": {},
   "outputs": [
    {
     "name": "stdout",
     "output_type": "stream",
     "text": [
      "Chi-Square Statistic: 16.3251\n",
      "P-value: 0.0010\n",
      "Degrees of Freedom: 3\n"
     ]
    }
   ],
   "source": [
    "from scipy.stats import chi2_contingency\n",
    "\n",
    "contigency_table = pd.crosstab(df_updated['WorkLifeBalance'], df_updated['Attrition'])\n",
    "\n",
    "chi2_stat, p, dof, expected = chi2_contingency(contigency_table)\n",
    "print(f\"Chi-Square Statistic: {chi2_stat:.4f}\")\n",
    "print(f\"P-value: {p:.4f}\")\n",
    "print(f\"Degrees of Freedom: {dof}\")"
   ]
  },
  {
   "cell_type": "markdown",
   "id": "4264150c",
   "metadata": {},
   "source": [
    "As the p-value is less that 0.05, we reject the null hypothesis suggesting that the work life balance is associated with employee attrition."
   ]
  }
 ],
 "metadata": {
  "kernelspec": {
   "display_name": "venv",
   "language": "python",
   "name": "python3"
  },
  "language_info": {
   "codemirror_mode": {
    "name": "ipython",
    "version": 3
   },
   "file_extension": ".py",
   "mimetype": "text/x-python",
   "name": "python",
   "nbconvert_exporter": "python",
   "pygments_lexer": "ipython3",
   "version": "3.13.4"
  }
 },
 "nbformat": 4,
 "nbformat_minor": 5
}
